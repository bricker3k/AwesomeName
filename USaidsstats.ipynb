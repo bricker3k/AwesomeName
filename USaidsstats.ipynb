{
 "cells": [
  {
   "cell_type": "markdown",
   "metadata": {},
   "source": [
    "#Is the HIV aids epidemic rising or declining"
   ]
  },
  {
   "cell_type": "code",
   "execution_count": 24,
   "metadata": {},
   "outputs": [],
   "source": [
    "import matplotlib.pyplot as plt\n",
    "import matplotlib\n",
    "import pandas as pd\n",
    "import numpy as np\n",
    "%matplotlib inline\n",
    "import requests\n",
    "import time\n",
    "from scipy.stats import linregress\n",
    "import requests\n",
    "import json\n",
    "from pprint import pprint\n",
    "import time\n",
    "from datetime import datetime\n"
   ]
  },
  {
   "cell_type": "code",
   "execution_count": 74,
   "metadata": {},
   "outputs": [],
   "source": [
    "aids= 'persons-living-with-hiv-aids-2011-2017.csv'\n",
    "death= 'AIDS_deaths_state.csv'\n",
    "aids = pd.read_csv(aids)\n",
    "death = pd.read_csv(death)"
   ]
  },
  {
   "cell_type": "code",
   "execution_count": 75,
   "metadata": {},
   "outputs": [
    {
     "data": {
      "text/html": [
       "<div>\n",
       "<style scoped>\n",
       "    .dataframe tbody tr th:only-of-type {\n",
       "        vertical-align: middle;\n",
       "    }\n",
       "\n",
       "    .dataframe tbody tr th {\n",
       "        vertical-align: top;\n",
       "    }\n",
       "\n",
       "    .dataframe thead th {\n",
       "        text-align: right;\n",
       "    }\n",
       "</style>\n",
       "<table border=\"1\" class=\"dataframe\">\n",
       "  <thead>\n",
       "    <tr style=\"text-align: right;\">\n",
       "      <th></th>\n",
       "      <th>Year</th>\n",
       "      <th>Category</th>\n",
       "      <th>Group</th>\n",
       "      <th>Count</th>\n",
       "    </tr>\n",
       "  </thead>\n",
       "  <tbody>\n",
       "    <tr>\n",
       "      <th>0</th>\n",
       "      <td>2011.0</td>\n",
       "      <td>Age at Year End</td>\n",
       "      <td>0-11</td>\n",
       "      <td>169.0</td>\n",
       "    </tr>\n",
       "    <tr>\n",
       "      <th>1</th>\n",
       "      <td>2011.0</td>\n",
       "      <td>Age at Year End</td>\n",
       "      <td>12-14</td>\n",
       "      <td>87.0</td>\n",
       "    </tr>\n",
       "    <tr>\n",
       "      <th>2</th>\n",
       "      <td>2011.0</td>\n",
       "      <td>Age at Year End</td>\n",
       "      <td>15-17</td>\n",
       "      <td>180.0</td>\n",
       "    </tr>\n",
       "    <tr>\n",
       "      <th>3</th>\n",
       "      <td>2011.0</td>\n",
       "      <td>Age at Year End</td>\n",
       "      <td>18-19</td>\n",
       "      <td>315.0</td>\n",
       "    </tr>\n",
       "    <tr>\n",
       "      <th>4</th>\n",
       "      <td>2011.0</td>\n",
       "      <td>Age at Year End</td>\n",
       "      <td>20-24</td>\n",
       "      <td>2971.0</td>\n",
       "    </tr>\n",
       "    <tr>\n",
       "      <th>...</th>\n",
       "      <td>...</td>\n",
       "      <td>...</td>\n",
       "      <td>...</td>\n",
       "      <td>...</td>\n",
       "    </tr>\n",
       "    <tr>\n",
       "      <th>310</th>\n",
       "      <td>2017.0</td>\n",
       "      <td>Transmission Category: Female Adult or Adolescent</td>\n",
       "      <td>Unknown risk</td>\n",
       "      <td>994.0</td>\n",
       "    </tr>\n",
       "    <tr>\n",
       "      <th>311</th>\n",
       "      <td>2017.0</td>\n",
       "      <td>Transmission Category: Female Adult or Adolescent</td>\n",
       "      <td>Other****</td>\n",
       "      <td>136.0</td>\n",
       "    </tr>\n",
       "    <tr>\n",
       "      <th>312</th>\n",
       "      <td>2017.0</td>\n",
       "      <td>Transmission Category: Child (&lt;12 Years Old at...</td>\n",
       "      <td>Perinatal</td>\n",
       "      <td>92.0</td>\n",
       "    </tr>\n",
       "    <tr>\n",
       "      <th>313</th>\n",
       "      <td>2017.0</td>\n",
       "      <td>Transmission Category: Child (&lt;12 Years Old at...</td>\n",
       "      <td>Unknown risk</td>\n",
       "      <td>16.0</td>\n",
       "    </tr>\n",
       "    <tr>\n",
       "      <th>314</th>\n",
       "      <td>2017.0</td>\n",
       "      <td>Transmission Category: Child (&lt;12 Years Old at...</td>\n",
       "      <td>Other****</td>\n",
       "      <td>2.0</td>\n",
       "    </tr>\n",
       "  </tbody>\n",
       "</table>\n",
       "<p>315 rows × 4 columns</p>\n",
       "</div>"
      ],
      "text/plain": [
       "       Year                                           Category         Group  \\\n",
       "0    2011.0                                    Age at Year End          0-11   \n",
       "1    2011.0                                    Age at Year End         12-14   \n",
       "2    2011.0                                    Age at Year End         15-17   \n",
       "3    2011.0                                    Age at Year End         18-19   \n",
       "4    2011.0                                    Age at Year End         20-24   \n",
       "..      ...                                                ...           ...   \n",
       "310  2017.0  Transmission Category: Female Adult or Adolescent  Unknown risk   \n",
       "311  2017.0  Transmission Category: Female Adult or Adolescent     Other****   \n",
       "312  2017.0  Transmission Category: Child (<12 Years Old at...     Perinatal   \n",
       "313  2017.0  Transmission Category: Child (<12 Years Old at...  Unknown risk   \n",
       "314  2017.0  Transmission Category: Child (<12 Years Old at...     Other****   \n",
       "\n",
       "      Count  \n",
       "0     169.0  \n",
       "1      87.0  \n",
       "2     180.0  \n",
       "3     315.0  \n",
       "4    2971.0  \n",
       "..      ...  \n",
       "310   994.0  \n",
       "311   136.0  \n",
       "312    92.0  \n",
       "313    16.0  \n",
       "314     2.0  \n",
       "\n",
       "[315 rows x 4 columns]"
      ]
     },
     "execution_count": 75,
     "metadata": {},
     "output_type": "execute_result"
    }
   ],
   "source": [
    "aids1 = pd.DataFrame(aids)\n",
    "aids1 = aids1.dropna(how='any')\n",
    "aids1"
   ]
  },
  {
   "cell_type": "code",
   "execution_count": 84,
   "metadata": {},
   "outputs": [
    {
     "data": {
      "text/html": [
       "<div>\n",
       "<style scoped>\n",
       "    .dataframe tbody tr th:only-of-type {\n",
       "        vertical-align: middle;\n",
       "    }\n",
       "\n",
       "    .dataframe tbody tr th {\n",
       "        vertical-align: top;\n",
       "    }\n",
       "\n",
       "    .dataframe thead th {\n",
       "        text-align: right;\n",
       "    }\n",
       "</style>\n",
       "<table border=\"1\" class=\"dataframe\">\n",
       "  <thead>\n",
       "    <tr style=\"text-align: right;\">\n",
       "      <th></th>\n",
       "      <th>Group</th>\n",
       "      <th>Mean</th>\n",
       "    </tr>\n",
       "  </thead>\n",
       "  <tbody>\n",
       "    <tr>\n",
       "      <th>0</th>\n",
       "      <td>0-11</td>\n",
       "      <td>143.428571</td>\n",
       "    </tr>\n",
       "    <tr>\n",
       "      <th>1</th>\n",
       "      <td>12-14</td>\n",
       "      <td>77.142857</td>\n",
       "    </tr>\n",
       "    <tr>\n",
       "      <th>2</th>\n",
       "      <td>15-17</td>\n",
       "      <td>134.857143</td>\n",
       "    </tr>\n",
       "    <tr>\n",
       "      <th>3</th>\n",
       "      <td>18-19</td>\n",
       "      <td>270.714286</td>\n",
       "    </tr>\n",
       "    <tr>\n",
       "      <th>4</th>\n",
       "      <td>20-24</td>\n",
       "      <td>3030.571429</td>\n",
       "    </tr>\n",
       "    <tr>\n",
       "      <th>5</th>\n",
       "      <td>25-29</td>\n",
       "      <td>7238.000000</td>\n",
       "    </tr>\n",
       "    <tr>\n",
       "      <th>6</th>\n",
       "      <td>30-34</td>\n",
       "      <td>9869.428571</td>\n",
       "    </tr>\n",
       "    <tr>\n",
       "      <th>7</th>\n",
       "      <td>35-39</td>\n",
       "      <td>11407.000000</td>\n",
       "    </tr>\n",
       "    <tr>\n",
       "      <th>8</th>\n",
       "      <td>40-44</td>\n",
       "      <td>15013.571429</td>\n",
       "    </tr>\n",
       "    <tr>\n",
       "      <th>9</th>\n",
       "      <td>45-49</td>\n",
       "      <td>20976.285714</td>\n",
       "    </tr>\n",
       "    <tr>\n",
       "      <th>10</th>\n",
       "      <td>50-54</td>\n",
       "      <td>22520.857143</td>\n",
       "    </tr>\n",
       "    <tr>\n",
       "      <th>11</th>\n",
       "      <td>55-59</td>\n",
       "      <td>16707.857143</td>\n",
       "    </tr>\n",
       "    <tr>\n",
       "      <th>12</th>\n",
       "      <td>60-64</td>\n",
       "      <td>10313.571429</td>\n",
       "    </tr>\n",
       "    <tr>\n",
       "      <th>13</th>\n",
       "      <td>65-74</td>\n",
       "      <td>7756.000000</td>\n",
       "    </tr>\n",
       "    <tr>\n",
       "      <th>14</th>\n",
       "      <td>&gt;= 75</td>\n",
       "      <td>1396.571429</td>\n",
       "    </tr>\n",
       "  </tbody>\n",
       "</table>\n",
       "</div>"
      ],
      "text/plain": [
       "    Group          Mean\n",
       "0    0-11    143.428571\n",
       "1   12-14     77.142857\n",
       "2   15-17    134.857143\n",
       "3   18-19    270.714286\n",
       "4   20-24   3030.571429\n",
       "5   25-29   7238.000000\n",
       "6   30-34   9869.428571\n",
       "7   35-39  11407.000000\n",
       "8   40-44  15013.571429\n",
       "9   45-49  20976.285714\n",
       "10  50-54  22520.857143\n",
       "11  55-59  16707.857143\n",
       "12  60-64  10313.571429\n",
       "13  65-74   7756.000000\n",
       "14  >= 75   1396.571429"
      ]
     },
     "execution_count": 84,
     "metadata": {},
     "output_type": "execute_result"
    }
   ],
   "source": [
    "age_year_end = aids1[aids1[\"Category\"]=='Age at Year End']\n",
    "new_df = pd.DataFrame()\n",
    "group = []\n",
    "mean = []\n",
    "for name in age_year_end['Group'].unique():\n",
    "    age_groups = age_year_end.loc[age_year_end [\"Group\"] == name, :]\n",
    "    mon = age_groups[\"Count\"].mean()\n",
    "    group.append(age_year_end['Group'].unique())\n",
    "    mean.append(mon)\n",
    "    new_df = new_df.append(pd.Series({\"Group\":name, 'Mean':mon}),ignore_index =True)\n",
    "new_df"
   ]
  },
  {
   "cell_type": "code",
   "execution_count": 104,
   "metadata": {},
   "outputs": [
    {
     "data": {
      "text/plain": [
       "<matplotlib.legend.Legend at 0x24f64cc57c8>"
      ]
     },
     "execution_count": 104,
     "metadata": {},
     "output_type": "execute_result"
    },
    {
     "data": {
      "image/png": "[encoded data removed]",
      "text/plain": [
       "<Figure size 576x504 with 1 Axes>"
      ]
     },
     "metadata": {
      "needs_background": "light"
     },
     "output_type": "display_data"
    }
   ],
   "source": [
    "#bar chart per year\n",
    "\n",
    "\n",
    "plt.figure(figsize=(8,7))\n",
    "b = plt.bar(age_year_end['Group'].unique(), mean, width=0.8, color=(\"g\", \"r\",\"b\",\"black\", \"m\", \"purple\", \"pink\", \"yellow\",\"orange\",\"grey\",\"maroon\",\"silver\", \"brown\", \"cyan\", \"wheat\"))\n",
    "plt.xlabel('Group')\n",
    "plt.ylabel('Mean')\n",
    "plt.title(\"HIV Victims in Age Group by Mean Count\", fontsize=20)\n",
    "plt.legend(b, age_year_end['Group'].unique())\n"
   ]
  },
  {
   "cell_type": "code",
   "execution_count": 112,
   "metadata": {},
   "outputs": [
    {
     "data": {
      "text/html": [
       "<div>\n",
       "<style scoped>\n",
       "    .dataframe tbody tr th:only-of-type {\n",
       "        vertical-align: middle;\n",
       "    }\n",
       "\n",
       "    .dataframe tbody tr th {\n",
       "        vertical-align: top;\n",
       "    }\n",
       "\n",
       "    .dataframe thead th {\n",
       "        text-align: right;\n",
       "    }\n",
       "</style>\n",
       "<table border=\"1\" class=\"dataframe\">\n",
       "  <thead>\n",
       "    <tr style=\"text-align: right;\">\n",
       "      <th></th>\n",
       "      <th>Sum</th>\n",
       "      <th>Year</th>\n",
       "    </tr>\n",
       "  </thead>\n",
       "  <tbody>\n",
       "    <tr>\n",
       "      <th>0</th>\n",
       "      <td>473948.0</td>\n",
       "      <td>2011.0</td>\n",
       "    </tr>\n",
       "    <tr>\n",
       "      <th>1</th>\n",
       "      <td>486348.0</td>\n",
       "      <td>2012.0</td>\n",
       "    </tr>\n",
       "    <tr>\n",
       "      <th>2</th>\n",
       "      <td>496940.0</td>\n",
       "      <td>2013.0</td>\n",
       "    </tr>\n",
       "    <tr>\n",
       "      <th>3</th>\n",
       "      <td>505504.0</td>\n",
       "      <td>2014.0</td>\n",
       "    </tr>\n",
       "    <tr>\n",
       "      <th>4</th>\n",
       "      <td>517264.0</td>\n",
       "      <td>2015.0</td>\n",
       "    </tr>\n",
       "    <tr>\n",
       "      <th>5</th>\n",
       "      <td>531632.0</td>\n",
       "      <td>2016.0</td>\n",
       "    </tr>\n",
       "    <tr>\n",
       "      <th>6</th>\n",
       "      <td>540328.0</td>\n",
       "      <td>2017.0</td>\n",
       "    </tr>\n",
       "  </tbody>\n",
       "</table>\n",
       "</div>"
      ],
      "text/plain": [
       "        Sum    Year\n",
       "0  473948.0  2011.0\n",
       "1  486348.0  2012.0\n",
       "2  496940.0  2013.0\n",
       "3  505504.0  2014.0\n",
       "4  517264.0  2015.0\n",
       "5  531632.0  2016.0\n",
       "6  540328.0  2017.0"
      ]
     },
     "execution_count": 112,
     "metadata": {},
     "output_type": "execute_result"
    }
   ],
   "source": [
    "#what are the counts between 2011 to 2017\n",
    "years = aids1[aids1[\"Year\"].isin ([2011,2012, 2013, 2014, 2015, 2016, 2017])]\n",
    "new_df1 = pd.DataFrame()\n",
    "sum_data = []\n",
    "for name in years['Year'].unique():\n",
    "    age_groups = years.loc[years [\"Year\"] == name, :]\n",
    "    mon1 = age_groups[\"Count\"].sum()\n",
    "    sum_data.append(mon1)\n",
    "    new_df1 = new_df1.append(pd.Series({\"Year\":name, 'Sum':mon1}),ignore_index =True)\n",
    "new_df1"
   ]
  },
  {
   "cell_type": "code",
   "execution_count": 140,
   "metadata": {},
   "outputs": [
    {
     "data": {
      "image/png": "[encoded data removed]",
      "text/plain": [
       "<Figure size 576x288 with 1 Axes>"
      ]
     },
     "metadata": {
      "needs_background": "light"
     },
     "output_type": "display_data"
    }
   ],
   "source": [
    "#bar chart per year\n",
    "plt.figure(figsize=(8,4))\n",
    "b1 = plt.bar(years['Year'].unique(), sum_data, width=0.5, color=(\"g\", \"r\",\"b\",\"black\", \"m\", \"purple\", \"pink\"))\n",
    "plt.xlabel('Year',  fontsize=20)\n",
    "plt.ylabel('Sum',  fontsize=20)\n",
    "plt.title(\"Count between 2011 and 2017\", fontsize=20)\n",
    "plt.legend(b1, years['Year'].unique(), loc='upper center', bbox_to_anchor=(1.30, 1.0),\n",
    "          ncol=3, fancybox=True, shadow=True)\n",
    "plt.show()\n",
    "\n",
    "\n"
   ]
  },
  {
   "cell_type": "code",
   "execution_count": 120,
   "metadata": {},
   "outputs": [
    {
     "data": {
      "text/html": [
       "<div>\n",
       "<style scoped>\n",
       "    .dataframe tbody tr th:only-of-type {\n",
       "        vertical-align: middle;\n",
       "    }\n",
       "\n",
       "    .dataframe tbody tr th {\n",
       "        vertical-align: top;\n",
       "    }\n",
       "\n",
       "    .dataframe thead th {\n",
       "        text-align: right;\n",
       "    }\n",
       "</style>\n",
       "<table border=\"1\" class=\"dataframe\">\n",
       "  <thead>\n",
       "    <tr style=\"text-align: right;\">\n",
       "      <th></th>\n",
       "      <th>Mean</th>\n",
       "      <th>Type</th>\n",
       "    </tr>\n",
       "  </thead>\n",
       "  <tbody>\n",
       "    <tr>\n",
       "      <th>0</th>\n",
       "      <td>85485.571429</td>\n",
       "      <td>Male-to-male sexual contact (MMSC)</td>\n",
       "    </tr>\n",
       "    <tr>\n",
       "      <th>1</th>\n",
       "      <td>4088.928571</td>\n",
       "      <td>Injection drug use (IDU)</td>\n",
       "    </tr>\n",
       "    <tr>\n",
       "      <th>2</th>\n",
       "      <td>9657.571429</td>\n",
       "      <td>MMSC and IDU</td>\n",
       "    </tr>\n",
       "    <tr>\n",
       "      <th>3</th>\n",
       "      <td>5649.071429</td>\n",
       "      <td>High-risk heterosexual contact (HRH)**</td>\n",
       "    </tr>\n",
       "    <tr>\n",
       "      <th>4</th>\n",
       "      <td>3270.142857</td>\n",
       "      <td>Heterosexual contact (Non-HRH)***</td>\n",
       "    </tr>\n",
       "    <tr>\n",
       "      <th>5</th>\n",
       "      <td>242.333333</td>\n",
       "      <td>Perinatal</td>\n",
       "    </tr>\n",
       "    <tr>\n",
       "      <th>6</th>\n",
       "      <td>1519.857143</td>\n",
       "      <td>Unknown risk</td>\n",
       "    </tr>\n",
       "    <tr>\n",
       "      <th>7</th>\n",
       "      <td>135.850000</td>\n",
       "      <td>Other****</td>\n",
       "    </tr>\n",
       "  </tbody>\n",
       "</table>\n",
       "</div>"
      ],
      "text/plain": [
       "           Mean                                    Type\n",
       "0  85485.571429      Male-to-male sexual contact (MMSC)\n",
       "1   4088.928571                Injection drug use (IDU)\n",
       "2   9657.571429                            MMSC and IDU\n",
       "3   5649.071429  High-risk heterosexual contact (HRH)**\n",
       "4   3270.142857       Heterosexual contact (Non-HRH)***\n",
       "5    242.333333                               Perinatal\n",
       "6   1519.857143                            Unknown risk\n",
       "7    135.850000                               Other****"
      ]
     },
     "execution_count": 120,
     "metadata": {},
     "output_type": "execute_result"
    }
   ],
   "source": [
    "#what are the reasons for contraction? \n",
    "contractions = aids1[aids1[\"Group\"].isin ([\"Male-to-male sexual contact (MMSC)\",\n",
    "                                              \"Injection drug use (IDU)\",\n",
    "                                              \"MMSC and IDU\",\n",
    "                                          \"High-risk heterosexual contact (HRH)**\",\n",
    "                                          \"Heterosexual contact (Non-HRH)***\",\n",
    "                                          \"Perinatal\",\n",
    "                                          \"Unknown risk\",\n",
    "                                          \"Other****\"\n",
    "                                          ])]\n",
    "new_df2 = pd.DataFrame()\n",
    "mean_data = []\n",
    "for name in contractions['Group'].unique():\n",
    "    cat = years.loc[years [\"Group\"] == name, :]\n",
    "    mon2 = cat[\"Count\"].mean()\n",
    "    mean_data.append(mon2)\n",
    "    new_df2 = new_df2.append(pd.Series({\"Type\":name, 'Mean':mon2}),ignore_index =True)\n",
    "new_df2"
   ]
  },
  {
   "cell_type": "code",
   "execution_count": 129,
   "metadata": {},
   "outputs": [
    {
     "data": {
      "image/png": "[encoded data removed]",
      "text/plain": [
       "<Figure size 576x504 with 1 Axes>"
      ]
     },
     "metadata": {
      "needs_background": "light"
     },
     "output_type": "display_data"
    }
   ],
   "source": [
    "#bar charts\n",
    "plt.figure(figsize=(8,7))\n",
    "#b = plt.bar(aids1[\"Year\"], aids1[\"Count\"], width=0.8, color=(\"g\"))\n",
    "q = plt.bar(contractions['Group'].unique(), mean_data, width=0.8, color=(\"g\", \"r\",\"b\",\"black\", \"m\", \"purple\", \"pink\",\"silver\"))\n",
    "plt.xticks(rotation=90)\n",
    "plt.xlabel('Type',  rotation='0', fontsize=20)\n",
    "\n",
    "plt.ylabel('Mean',  fontsize=20)\n",
    "plt.title(\"Reason for Contraction\", fontsize=20)\n",
    "plt.legend(q, contractions['Group'].unique())\n",
    "plt.show()\n",
    "\n"
   ]
  },
  {
   "cell_type": "code",
   "execution_count": null,
   "metadata": {},
   "outputs": [],
   "source": [
    "#what race/ethnicity is affected the most"
   ]
  },
  {
   "cell_type": "code",
   "execution_count": null,
   "metadata": {},
   "outputs": [],
   "source": [
    "#pie chart"
   ]
  },
  {
   "cell_type": "code",
   "execution_count": null,
   "metadata": {},
   "outputs": [],
   "source": [
    "#what gender is mostly affected?"
   ]
  },
  {
   "cell_type": "code",
   "execution_count": null,
   "metadata": {},
   "outputs": [],
   "source": [
    "#pie chart"
   ]
  },
  {
   "cell_type": "code",
   "execution_count": null,
   "metadata": {},
   "outputs": [],
   "source": [
    "#how many deaths per year come from aids/hiv"
   ]
  },
  {
   "cell_type": "code",
   "execution_count": null,
   "metadata": {},
   "outputs": [],
   "source": [
    "#bar chart"
   ]
  },
  {
   "cell_type": "code",
   "execution_count": null,
   "metadata": {},
   "outputs": [],
   "source": [
    "#what state has the highest death rate per year\n",
    "#weightavg = onlyc.groupby([\"Mouse ID\"], as_index=False)[\"Weight in Grams\"].mean()"
   ]
  },
  {
   "cell_type": "code",
   "execution_count": null,
   "metadata": {},
   "outputs": [],
   "source": [
    "#scatterplot state population vs. aids death per year"
   ]
  }
 ],
 "metadata": {
  "kernelspec": {
   "display_name": "Python 3",
   "language": "python",
   "name": "python3"
  },
  "language_info": {
   "codemirror_mode": {
    "name": "ipython",
    "version": 3
   },
   "file_extension": ".py",
   "mimetype": "text/x-python",
   "name": "python",
   "nbconvert_exporter": "python",
   "pygments_lexer": "ipython3",
   "version": "3.7.5"
  }
 },
 "nbformat": 4,
 "nbformat_minor": 2
}
