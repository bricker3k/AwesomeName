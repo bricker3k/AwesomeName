{
 "cells": [
  {
   "cell_type": "code",
   "execution_count": 13,
   "metadata": {},
   "outputs": [],
   "source": [
    "import matplotlib.pyplot as plt\n",
    "import matplotlib\n",
    "import pandas as pd\n",
    "import numpy as np\n",
    "import requests\n",
    "import time\n",
    "from scipy.stats import linregress\n",
    "import requests\n",
    "import json\n",
    "from pprint import pprint\n",
    "import time\n",
    "from datetime import datetime\n",
    "from imdb import IMDb\n",
    "from box\n"
   ]
  },
  {
   "cell_type": "code",
   "execution_count": 19,
   "metadata": {},
   "outputs": [
    {
     "data": {
      "text/plain": [
       "<imdb.parser.http.IMDbHTTPAccessSystem at 0x1086cef90>"
      ]
     },
     "execution_count": 19,
     "metadata": {},
     "output_type": "execute_result"
    }
   ],
   "source": [
    "ia = IMDb()\n",
    "ia"
   ]
  },
  {
   "cell_type": "code",
   "execution_count": 16,
   "metadata": {},
   "outputs": [
    {
     "data": {
      "text/plain": [
       "<Movie id:0133093[http] title:_The Matrix (1999)_>"
      ]
     },
     "execution_count": 16,
     "metadata": {},
     "output_type": "execute_result"
    }
   ],
   "source": [
    "movie = ia.get_movie('0133093')\n",
    "movie"
   ]
  },
  {
   "cell_type": "code",
   "execution_count": 18,
   "metadata": {},
   "outputs": [
    {
     "data": {
      "text/plain": [
       "[<Person id:0000154[http] name:_Mel Gibson (I)_>,\n",
       " <Person id:2153167[http] name:_Mel Gibson (III)_>,\n",
       " <Person id:0317112[http] name:_Mel Gibson (II)_>,\n",
       " <Person id:3323885[http] name:_Adam Taylor (XIX)_>,\n",
       " <Person id:2800055[http] name:_Mel Gibson (IV)_>,\n",
       " <Person id:3742421[http] name:_Melina Mari Bryant   nickname_>,\n",
       " <Person id:0317195[http] name:_Terel Gibson_>,\n",
       " <Person id:0316945[http] name:_Donal Gibson_>,\n",
       " <Person id:0316878[http] name:_Cal Gibson_>,\n",
       " <Person id:2106809[http] name:_Raquel Gibson_>,\n",
       " <Person id:3912400[http] name:_Jamel Gibson_>,\n",
       " <Person id:0316950[http] name:_E.L. Gibson_>,\n",
       " <Person id:2798174[http] name:_Daniel Gibson (I)_>,\n",
       " <Person id:4047961[http] name:_Noel Gibson (II)_>,\n",
       " <Person id:9235742[http] name:_Daniel Gibson (XIII)_>,\n",
       " <Person id:2988370[http] name:_Mal Gibson_>,\n",
       " <Person id:1270944[http] name:_Paul Gibson (IV)_>,\n",
       " <Person id:7454542[http] name:_L. Gibson_>,\n",
       " <Person id:4825872[http] name:_Jill Gibson (II)_>,\n",
       " <Person id:5624597[http] name:_Daniel Gibson (IV)_>]"
      ]
     },
     "execution_count": 18,
     "metadata": {},
     "output_type": "execute_result"
    }
   ],
   "source": [
    "people= ia.search_person('Mel Gibson')\n",
    "people"
   ]
  },
  {
   "cell_type": "code",
   "execution_count": 20,
   "metadata": {},
   "outputs": [
    {
     "data": {
      "text/plain": [
       "[<Movie id:0288937[http] title:_Degrassi: The Next Generation (2001–2015)) (None)_>,\n",
       " <Movie id:2262532[http] title:_The Fosters (2013–2018)) (None)_>,\n",
       " <Movie id:3921180[http] title:_Scream: The TV Series (2015–) (None)_>,\n",
       " <Movie id:0063951[http] title:_Sesame Street (1969–) (None)_>,\n",
       " <Movie id:0072582[http] title:_Welcome Back, Kotter (1975–1979)) (None)_>,\n",
       " <Movie id:0088000[http] title:_Revenge of the Nerds (1984)_>,\n",
       " <Movie id:4781612[http] title:_Imperium (2016)_>,\n",
       " <Movie id:1299368[http] title:_Southland (2009–2013)) (None)_>,\n",
       " <Movie id:0090417[http] title:_Degrassi High (1987–1991)) (None)_>,\n",
       " <Movie id:0362269[http] title:_Kinsey (2004)_>,\n",
       " <Movie id:8344544[http] title:_Perfect Life (2019–) (None)_>,\n",
       " <Movie id:0096119[http] title:_Sleepaway Camp III: Teenage Wasteland (1989)_>,\n",
       " <Movie id:0098763[http] title:_Captain Planet and the Planeteers (1990–1996)) (None)_>,\n",
       " <Movie id:7713450[http] title:_Craig of the Creek (2018–) (None)_>,\n",
       " <Movie id:0278877[http] title:_Sealab 2021 (2000–2005)) (None)_>,\n",
       " <Movie id:11463862[http] title:_Earth's Tropical Islands (2020)_>,\n",
       " <Movie id:7488288[http] title:_Anya (2019)_>,\n",
       " <Movie id:9045008[http] title:_De Libi (2019)_>,\n",
       " <Movie id:5281700[http] title:_Heartbeats (2017)_>,\n",
       " <Movie id:0422783[http] title:_Music Within (2007)_>,\n",
       " <Movie id:3696610[http] title:_Stuck ) (IV) (None)_>,\n",
       " <Movie id:5969404[http] title:_Australia Day (2017)_>,\n",
       " <Movie id:2482774[http] title:_DTLA (2012–) (None)_>,\n",
       " <Movie id:2125743[http] title:_Bloomers (2011–) (None)_>,\n",
       " <Movie id:2123765[http] title:_The Misadventures of Awkward Black Girl (2011–) (None)_>,\n",
       " <Movie id:0380615[http] title:_Paper Clips (2004)_>,\n",
       " <Movie id:8552834[http] title:_A Bennett Song Holiday (None)_>,\n",
       " <Movie id:2907898[http] title:_No Ordinary Hero: The SuperDeafy Movie (2013)_>,\n",
       " <Movie id:5942590[http] title:_Rio 2016 Olympic Games Opening Ceremony (2016)_>,\n",
       " <Movie id:2351417[http] title:_Trans (2012)_>,\n",
       " <Movie id:1224387[http] title:_Carrier (2008–) (None)_>,\n",
       " <Movie id:0210450[http] title:_SexTV (1998–2008)) (None)_>,\n",
       " <Movie id:5559352[http] title:_The Billionaire (None)_>,\n",
       " <Movie id:0787383[http] title:_Kindergarten (2001–) (None)_>,\n",
       " <Movie id:11274898[http] title:_ARTE Re: (2017–) (None)_>,\n",
       " <Movie id:3920378[http] title:_Cheetah in August (2015–) (None)_>,\n",
       " <Movie id:1056441[http] title:_Tru Loved (2008)_>,\n",
       " <Movie id:1538927[http] title:_Open (2010)_>,\n",
       " <Movie id:6693018[http] title:_AOK (2016–) (None)_>,\n",
       " <Movie id:6275974[http] title:_Friday Night Bites (2016–) (None)_>,\n",
       " <Movie id:3037846[http] title:_The Out List (2013)_>,\n",
       " <Movie id:1500511[http] title:_The New Erotic: Art Sex Revolution (2011)_>,\n",
       " <Movie id:2404353[http] title:_Rising Sun (2012)_>,\n",
       " <Movie id:0128260[http] title:_How Do You Spell God? (1996)_>,\n",
       " <Movie id:0441737[http] title:_Bam Bam and Celeste (2005)_>,\n",
       " <Movie id:0211846[http] title:_Powerhouse (1982–) (None)_>,\n",
       " <Movie id:7677060[http] title:_Love, Repeat (None)_>,\n",
       " <Movie id:8418084[http] title:_Cinema Club (2018–) (None)_>,\n",
       " <Movie id:0115110[http] title:_Bedtime (1996–) (None)_>,\n",
       " <Movie id:7778648[http] title:_Yeoja (2017–) (None)_>]"
      ]
     },
     "execution_count": 20,
     "metadata": {},
     "output_type": "execute_result"
    }
   ],
   "source": [
    "key = ia.get_keyword(\"diversity\")\n",
    "key"
   ]
  },
  {
   "cell_type": "code",
   "execution_count": null,
   "metadata": {},
   "outputs": [],
   "source": []
  }
 ],
 "metadata": {
  "kernelspec": {
   "display_name": "Python [conda env:PythonData] *",
   "language": "python",
   "name": "conda-env-PythonData-py"
  },
  "language_info": {
   "codemirror_mode": {
    "name": "ipython",
    "version": 3
   },
   "file_extension": ".py",
   "mimetype": "text/x-python",
   "name": "python",
   "nbconvert_exporter": "python",
   "pygments_lexer": "ipython3",
   "version": "3.7.6"
  }
 },
 "nbformat": 4,
 "nbformat_minor": 2
}
